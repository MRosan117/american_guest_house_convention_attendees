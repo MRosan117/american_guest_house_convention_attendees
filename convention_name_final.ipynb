{
 "cells": [
  {
   "cell_type": "code",
   "execution_count": null,
   "id": "ef8ce7e0-976e-4cee-b310-1adf5142a092",
   "metadata": {
    "tags": []
   },
   "outputs": [],
   "source": [
    "import pandas as pd\n",
    "from pathlib import Path\n",
    "import numpy as np\n",
    "from fuzzywuzzy import fuzz\n",
    "from fuzzywuzzy import process\n",
    "from datetime import datetime\n",
    "import re\n",
    "from dateutil import parser"
   ]
  },
  {
   "cell_type": "code",
   "execution_count": null,
   "id": "eeaee12b-f9dc-4e94-890e-7833cb52ed40",
   "metadata": {
    "tags": []
   },
   "outputs": [],
   "source": [
    "convention_name_2018_2019 = Path(\"/Users/matt/Desktop/conventions_agh/convention_names/2018_2019_CONVENTION_NAME_2018_19.csv\")\n",
    "convention_name_2018_2019_df = pd.read_csv(convention_name_2018_2019, index_col = \"Booked On\", infer_datetime_format=True)\n",
    "convention_name_2018_2019_df.head()"
   ]
  },
  {
   "cell_type": "code",
   "execution_count": null,
   "id": "946ea05a-5b49-47a9-991a-97ceacc95b5a",
   "metadata": {
    "tags": []
   },
   "outputs": [],
   "source": [
    "convention_name_2020_2021 = Path(\"/Users/matt/Desktop/conventions_agh/convention_names/2020_2021_CONVENTION_NAME_2020_2021.csv\")\n",
    "convention_name_2020_2021_df = pd.read_csv(convention_name_2020_2021, index_col = \"Booked On\", infer_datetime_format=True)\n",
    "convention_name_2020_2021_df.head()"
   ]
  },
  {
   "cell_type": "code",
   "execution_count": null,
   "id": "f8886fde-39d6-47ce-abb5-285511ca056d",
   "metadata": {
    "tags": []
   },
   "outputs": [],
   "source": [
    "convention_name_2022_2023 = Path(\"/Users/matt/Desktop/conventions_agh/convention_names/2022_2023_CONVENTIONS_NAME_2022_2023.csv\")\n",
    "convention_name_2022_2023_df = pd.read_csv(convention_name_2022_2023, index_col =\"Booked On\", infer_datetime_format=True)\n",
    "convention_name_2022_2023_df.head()"
   ]
  },
  {
   "cell_type": "code",
   "execution_count": null,
   "id": "e13aacf5-341c-411c-8aca-2ad07e19ed18",
   "metadata": {
    "tags": []
   },
   "outputs": [],
   "source": [
    "combined_convention_name_2018_2023 = pd.concat([convention_name_2018_2019_df,convention_name_2020_2021_df, convention_name_2022_2023_df], axis=0)\n",
    "combined_convention_name_2018_2023"
   ]
  },
  {
   "cell_type": "code",
   "execution_count": null,
   "id": "7208dc75-ac02-48e2-8bb8-f91d8cc66f70",
   "metadata": {
    "scrolled": true,
    "tags": []
   },
   "outputs": [],
   "source": [
    "unique_convention_names = combined_convention_name_2018_2023[\"Notes\"].unique()\n",
    "unique_convention_names"
   ]
  },
  {
   "cell_type": "code",
   "execution_count": null,
   "id": "2180e766-28db-4dd1-a567-e1281f30c158",
   "metadata": {
    "tags": []
   },
   "outputs": [],
   "source": [
    "combined_convention_name_2018_2023[\"Notes\"] = combined_convention_name_2018_2023[\"Notes\"].str.lower().str.strip()"
   ]
  },
  {
   "cell_type": "code",
   "execution_count": null,
   "id": "be33bb17-8ed6-46c6-be3f-ab3e1c886e0d",
   "metadata": {
    "scrolled": true,
    "tags": []
   },
   "outputs": [],
   "source": [
    "most_common_conventions= combined_convention_name_2018_2023[\"Notes\"].value_counts().head(40).index.tolist()\n",
    "most_common_conventions\n"
   ]
  },
  {
   "cell_type": "code",
   "execution_count": null,
   "id": "55a98eaa-9b0a-4b6c-9e0b-46f481d18cec",
   "metadata": {
    "tags": []
   },
   "outputs": [],
   "source": [
    "notes_column = combined_convention_name_2018_2023['Notes']\n"
   ]
  },
  {
   "cell_type": "code",
   "execution_count": null,
   "id": "bcf59eac-9c06-4a48-9914-91efc1e088af",
   "metadata": {
    "tags": []
   },
   "outputs": [],
   "source": [
    "check_in_column = combined_convention_name_2018_2023[\"Check In\"]"
   ]
  },
  {
   "cell_type": "code",
   "execution_count": null,
   "id": "048008d6-69c7-4d5a-a99d-dfc2a6c919fa",
   "metadata": {
    "tags": []
   },
   "outputs": [],
   "source": [
    "unique_notes = notes_column.dropna().astype(str).unique()\n"
   ]
  },
  {
   "cell_type": "code",
   "execution_count": null,
   "id": "dda587bb-d7fe-4e62-b81a-b35864151dba",
   "metadata": {
    "tags": []
   },
   "outputs": [],
   "source": [
    "def clean_date_string(date_string):\n",
    "    try:\n",
    "        # Use dateutil.parser to parse the date\n",
    "        date_obj = parser.parse(str(date_string))\n",
    "        return date_obj.strftime(\"%m/%d/%Y\")\n",
    "    except (parser.ParserError, TypeError, ValueError):\n",
    "        return None"
   ]
  },
  {
   "cell_type": "code",
   "execution_count": null,
   "id": "606dc1eb-dd5e-4c87-be65-61ac684cebc4",
   "metadata": {
    "tags": []
   },
   "outputs": [],
   "source": [
    "def extract_acronym(note):\n",
    "    # Use regular expression to find uppercase letters in the note\n",
    "    # and join them to form an acronym\n",
    "    acronym_match = re.findall(r'\\b[A-Z]+\\b', note)\n",
    "    return ''.join(acronym_match) if acronym_match else None"
   ]
  },
  {
   "cell_type": "code",
   "execution_count": null,
   "id": "ce1eb58f-b157-4133-bbd7-111e9dd2da74",
   "metadata": {
    "tags": []
   },
   "outputs": [],
   "source": [
    "def are_acronyms_similar(acronyms1, acronyms2):\n",
    "    # Check if there is any common acronym between acronyms1 and acronyms2\n",
    "    return any(acronym in acronyms2 for acronym in acronyms1) or any(acronym in acronyms1 for acronym in acronyms2)"
   ]
  },
  {
   "cell_type": "code",
   "execution_count": null,
   "id": "4ff1e694-2d66-4114-bac3-6503ec52f7e1",
   "metadata": {
    "tags": []
   },
   "outputs": [],
   "source": [
    "def are_notes_similar(note1, note2):\n",
    "    # Extract acronyms from both notes\n",
    "    acronym1 = extract_acronym(note1)\n",
    "    acronym2 = extract_acronym(note2)\n",
    "    \n",
    "    return (acronym1 and acronym2 and acronym1 == acronym2) or note1 in note2 or note2 in note1"
   ]
  },
  {
   "cell_type": "code",
   "execution_count": null,
   "id": "971b8b14-3dea-4b5c-a88f-d9f39e2c3580",
   "metadata": {
    "tags": []
   },
   "outputs": [],
   "source": [
    "def are_similar(note1, note2, check_in1, check_in2_series):\n",
    "    try:\n",
    "        check_in1_date = parser.parse(clean_date_string(check_in1))\n",
    "\n",
    "        # Split the comma-separated date strings\n",
    "        check_in2_dates = check_in2_series.str.split(',', expand=True).stack().reset_index(level=1, drop=True)\n",
    "\n",
    "        # Convert the Series to a list and iterate over it\n",
    "        for check_in2 in check_in2_dates.dropna().tolist():\n",
    "            check_in2_date = parser.parse(clean_date_string(check_in2))\n",
    "            check_in_similarity = abs((check_in1_date - check_in2_date).days) < 7\n",
    "\n",
    "            # Combine both criteria to determine overall similarity\n",
    "            if are_notes_similar(note1, note2) and check_in_similarity:\n",
    "                return True\n",
    "    except (parser.ParserError, TypeError, ValueError):\n",
    "        # Handle parsing errors, if any\n",
    "        pass\n",
    "\n",
    "    return False\n"
   ]
  },
  {
   "cell_type": "code",
   "execution_count": null,
   "id": "05e43509-6616-48fa-a532-67008b3c1da2",
   "metadata": {
    "tags": []
   },
   "outputs": [],
   "source": [
    "similar_values_dict = {}"
   ]
  },
  {
   "cell_type": "code",
   "execution_count": null,
   "id": "3e07a514-2b3d-4cdc-b4ca-732e457f8c77",
   "metadata": {
    "tags": []
   },
   "outputs": [],
   "source": [
    "for note in unique_notes:\n",
    "    mask = notes_column.apply(lambda x: are_similar(note, x, combined_convention_name_2018_2023.loc[notes_column == note, 'Check In'].iloc[0], check_in_column))\n",
    "    similar_values = combined_convention_name_2018_2023.loc[mask, 'Notes'].tolist()\n",
    "    similar_values_dict[note] = similar_values"
   ]
  },
  {
   "cell_type": "code",
   "execution_count": null,
   "id": "64771a79-92c6-436e-ba46-bcc256781917",
   "metadata": {
    "scrolled": true,
    "tags": []
   },
   "outputs": [],
   "source": [
    "for note, similar_values in similar_values_dict.items():\n",
    "    print(f\"Values for '{note}': {similar_values}\")\n",
    "\n",
    "# Sort the dictionary by keys\n",
    "sorted_similar_values_dict = dict(sorted(similar_values_dict.items()))\n",
    "\n",
    "# Print the sorted values\n",
    "for note, similar_values in sorted_similar_values_dict.items():\n",
    "    print(f\"Similar values for '{note}': {similar_values}\")\n"
   ]
  },
  {
   "cell_type": "code",
   "execution_count": null,
   "id": "c965ebdf-001c-44db-bb43-48c164f6b1b2",
   "metadata": {
    "scrolled": true,
    "tags": []
   },
   "outputs": [],
   "source": [
    "similar_values_count = {}\n",
    "\n",
    "\n",
    "\n",
    "for note, similar_values in similar_values_dict.items():\n",
    "    count = len(similar_values)\n",
    "    similar_values_count[note] = count\n",
    "    print(f\"Count of similar values for '{note}': {count}\")"
   ]
  },
  {
   "cell_type": "code",
   "execution_count": null,
   "id": "fd6b6bf9-5c11-48f9-8ff6-e00946e403e9",
   "metadata": {
    "scrolled": true,
    "tags": []
   },
   "outputs": [],
   "source": [
    "sorted_counts = dict(sorted(similar_values_count.items(), key=lambda item: item[1], reverse=True))\n",
    "\n",
    "\n",
    "print(\"\\nSorted counts:\")\n",
    "for note, count in sorted_counts.items():\n",
    "    print(f\"Count of similar values for '{note}': {count}\")"
   ]
  },
  {
   "cell_type": "code",
   "execution_count": null,
   "id": "62c71e77-1528-4c55-943c-337b6862c052",
   "metadata": {
    "scrolled": true,
    "tags": []
   },
   "outputs": [],
   "source": [
    "similar_values_info = {}\n",
    "\n",
    "for note, similar_values in similar_values_dict.items():\n",
    "    count = len(similar_values)\n",
    "    check_in_dates = combined_convention_name_2018_2023.loc[notes_column.isin(similar_values), 'Check In'].unique()\n",
    "    similar_values_info[note] = {\"count\": count, \"check_in_dates\": check_in_dates}\n",
    "\n",
    "# Create a DataFrame from the dictionary\n",
    "similar_values_df = pd.DataFrame.from_dict(similar_values_info, orient='index')\n",
    "\n",
    "# Sort the DataFrame by counts in descending order\n",
    "similar_values_df = similar_values_df.sort_values(by='count', ascending=False)\n",
    "\n",
    "# Print the sorted DataFrame\n",
    "print(\"\\nSorted DataFrame:\")\n",
    "print(similar_values_df.head(50))\n",
    "\n"
   ]
  },
  {
   "cell_type": "code",
   "execution_count": null,
   "id": "270c6d1c-7f32-4a6d-86bc-70cce7b072bc",
   "metadata": {
    "tags": []
   },
   "outputs": [],
   "source": [
    "# Create a DataFrame from the dictionary\n",
    "similar_values_df = pd.DataFrame.from_dict(similar_values_info, orient='index')\n",
    "\n",
    "# Rename the columns for clarity\n",
    "similar_values_df.columns = ['Count', 'Check In Dates']\n",
    "\n",
    "# Sort the DataFrame by counts in descending order\n",
    "similar_values_df = similar_values_df.sort_values(by='Count', ascending=False)\n",
    "\n",
    "# Print the sorted DataFrame\n",
    "print(\"\\nSorted DataFrame:\")\n",
    "print(similar_values_df.head(50))\n"
   ]
  },
  {
   "cell_type": "code",
   "execution_count": null,
   "id": "25bee0b1-a541-417f-8ec9-3df05a5a497f",
   "metadata": {
    "scrolled": true,
    "tags": []
   },
   "outputs": [],
   "source": [
    "# Create a DataFrame from the dictionary\n",
    "similar_values_df = pd.DataFrame.from_dict(similar_values_info, orient='index')\n",
    "\n",
    "# Rename the columns for clarity\n",
    "similar_values_df.columns = ['Count', 'Check In Dates']\n",
    "\n",
    "# Sort the DataFrame by counts in descending order\n",
    "similar_values_df = similar_values_df.sort_values(by='Count', ascending=False)\n",
    "\n",
    "# Print the sorted DataFrame\n",
    "print(\"\\nSorted DataFrame:\")\n",
    "print(similar_values_df.head(50))\n",
    "\n",
    "# Save the DataFrame to a CSV file\n",
    "# similar_values_df.to_csv('similar_values_output.csv')\n"
   ]
  },
  {
   "cell_type": "code",
   "execution_count": null,
   "id": "87a8432b-3fec-4092-acc0-07861f5d19b1",
   "metadata": {
    "tags": []
   },
   "outputs": [],
   "source": [
    "import pandas as pd\n",
    "\n",
    "# Assuming you have already created the similar_values_df DataFrame\n",
    "\n",
    "# Convert the \"Check In Dates\" column to datetime\n",
    "similar_values_df['Check In Dates'] = pd.to_datetime(similar_values_df['Check In Dates'], errors='coerce')\n",
    "\n",
    "# Sort the DataFrame by counts in descending order and then by \"Check In Dates\" in descending order\n",
    "similar_values_df = similar_values_df.sort_values(by=['Count', 'Check In Dates'], ascending=[False, False])\n",
    "\n",
    "# Print the sorted DataFrame\n",
    "print(\"\\nSorted DataFrame:\")\n",
    "print(similar_values_df.head(50))\n",
    "\n",
    "# Save the DataFrame to a CSV file\n",
    "# similar_values_df.to_csv('similar_values_output_sorted.csv')\n"
   ]
  },
  {
   "cell_type": "code",
   "execution_count": null,
   "id": "e24672ef-bf5c-491a-847a-2ba5fe595926",
   "metadata": {
    "tags": []
   },
   "outputs": [],
   "source": [
    "filtered_df = combined_convention_name_2018_2023[combined_convention_name_2018_2023[\"Notes\"].isin(most_common_conventions)]\n",
    "filtered_df"
   ]
  },
  {
   "cell_type": "code",
   "execution_count": null,
   "id": "49319572-7cb3-4809-b089-54749b4f1b7d",
   "metadata": {
    "tags": []
   },
   "outputs": [],
   "source": [
    "sorted_by_most_common_names = filtered_df.sort_values(by=\"Notes\", key=lambda x: x.map(most_common_conventions.index))\n",
    "sorted_by_most_common_names.head(20)                                                                    "
   ]
  },
  {
   "cell_type": "code",
   "execution_count": null,
   "id": "080e4172-e6e6-4bf6-9935-4e9b2eb591aa",
   "metadata": {
    "tags": []
   },
   "outputs": [],
   "source": [
    "sorted_by_most_common_names.drop_duplicates(subset=\"Notes\", keep='first', inplace=True)\n",
    "sorted_by_most_common_names.head(20)"
   ]
  },
  {
   "cell_type": "code",
   "execution_count": null,
   "id": "9b8ba26f-ea54-4c79-b3d1-f5d1823cb2c5",
   "metadata": {
    "tags": []
   },
   "outputs": [],
   "source": [
    "null_check_in = sorted_by_most_common_names['Check In'].isnull().value_counts()\n",
    "null_check_in"
   ]
  },
  {
   "cell_type": "code",
   "execution_count": null,
   "id": "e5a72bbc-2336-41ec-83ff-94fc2cae7f7f",
   "metadata": {
    "tags": []
   },
   "outputs": [],
   "source": [
    "sorted_by_most_common_names.dropna(subset=['Check In'], inplace=True)"
   ]
  },
  {
   "cell_type": "code",
   "execution_count": null,
   "id": "61e5bc3b-e4bb-4fa1-8895-68f6cc026d39",
   "metadata": {
    "tags": []
   },
   "outputs": [],
   "source": [
    "sorted_by_most_common_names['Check In'] = pd.to_datetime(sorted_by_most_common_names['Check In'], errors=\"coerce\")\n"
   ]
  },
  {
   "cell_type": "code",
   "execution_count": null,
   "id": "6325dcf1-c876-47d0-8c3f-20521c5d7ba1",
   "metadata": {
    "tags": []
   },
   "outputs": [],
   "source": [
    "sorted_by_most_common_names.dtypes"
   ]
  },
  {
   "cell_type": "code",
   "execution_count": null,
   "id": "ef44f667-9567-4912-bb84-969678a88900",
   "metadata": {},
   "outputs": [],
   "source": []
  },
  {
   "cell_type": "code",
   "execution_count": null,
   "id": "c1eb49bd-0bae-4db7-a4b2-a9547cfe9784",
   "metadata": {
    "tags": []
   },
   "outputs": [],
   "source": [
    "new_index = pd.to_datetime(sorted_by_most_common_names.index, errors='coerce')\n"
   ]
  },
  {
   "cell_type": "code",
   "execution_count": null,
   "id": "b76fdf65-48f7-430f-97ec-e633cf37814d",
   "metadata": {
    "tags": []
   },
   "outputs": [],
   "source": [
    "sorted_by_most_common_names = sorted_by_most_common_names.set_index(new_index)\n"
   ]
  },
  {
   "cell_type": "code",
   "execution_count": null,
   "id": "b6b003d5-2d93-4186-ba0f-6a97a532ee36",
   "metadata": {
    "tags": []
   },
   "outputs": [],
   "source": [
    "time_difference = sorted_by_most_common_names.index - sorted_by_most_common_names['Check In']\n"
   ]
  },
  {
   "cell_type": "code",
   "execution_count": null,
   "id": "1d0ec0eb-867e-40d6-90ed-faef447b2532",
   "metadata": {
    "tags": []
   },
   "outputs": [],
   "source": [
    "time_difference_days = time_difference.astype('timedelta64[D]')\n"
   ]
  },
  {
   "cell_type": "code",
   "execution_count": null,
   "id": "291695ed-4b01-46ca-abae-ad14f4c46192",
   "metadata": {
    "tags": []
   },
   "outputs": [],
   "source": [
    "sorted_by_most_common_names['Time Difference (Days)'] = time_difference_days.astype(int)\n"
   ]
  },
  {
   "cell_type": "code",
   "execution_count": null,
   "id": "741eaed3-9994-40b3-87a5-63f6654d350e",
   "metadata": {
    "tags": []
   },
   "outputs": [],
   "source": [
    "sorted_by_most_common_names.drop(columns=['Time Difference'], inplace=True)\n"
   ]
  },
  {
   "cell_type": "code",
   "execution_count": null,
   "id": "01a68892-b3c5-41a5-a955-514683b1c8e4",
   "metadata": {
    "tags": []
   },
   "outputs": [],
   "source": [
    "sorted_by_most_common_names"
   ]
  },
  {
   "cell_type": "code",
   "execution_count": null,
   "id": "17b8cd97-b6c2-49df-8217-16a186d7ae85",
   "metadata": {
    "tags": []
   },
   "outputs": [],
   "source": [
    "sorted_by_days_reserved_before_checkin_date_df = sorted_by_most_common_names.sort_values(by='Time Difference (Days)')\n"
   ]
  },
  {
   "cell_type": "code",
   "execution_count": null,
   "id": "b233ef93-94a5-4617-925b-d4ba920f5001",
   "metadata": {
    "tags": []
   },
   "outputs": [],
   "source": [
    "sorted_by_days_reserved_before_checkin_date_df"
   ]
  },
  {
   "cell_type": "code",
   "execution_count": null,
   "id": "f8c528ea-a91b-43c7-a8b2-b592ba711cf5",
   "metadata": {},
   "outputs": [],
   "source": []
  }
 ],
 "metadata": {
  "kernelspec": {
   "display_name": "Python 3 (ipykernel)",
   "language": "python",
   "name": "python3"
  },
  "language_info": {
   "codemirror_mode": {
    "name": "ipython",
    "version": 3
   },
   "file_extension": ".py",
   "mimetype": "text/x-python",
   "name": "python",
   "nbconvert_exporter": "python",
   "pygments_lexer": "ipython3",
   "version": "3.11.3"
  }
 },
 "nbformat": 4,
 "nbformat_minor": 5
}
